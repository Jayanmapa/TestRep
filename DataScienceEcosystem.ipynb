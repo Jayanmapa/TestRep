{
 "cells": [
  {
   "cell_type": "markdown",
   "id": "0e121dfc-ccdb-4692-a2fa-8b0028b1d233",
   "metadata": {},
   "source": [
    "# Data Science Tools asnd Ecosystem"
   ]
  },
  {
   "cell_type": "markdown",
   "id": "7552ada2-4501-45f7-83e0-e7a888c52bda",
   "metadata": {},
   "source": [
    "In this notebook, Data Science Tools and Ecosystem are summarized."
   ]
  },
  {
   "cell_type": "markdown",
   "id": "9d3e0bc4-f484-4691-8a77-1c19e6a8e60e",
   "metadata": {},
   "source": [
    "Some of the popular languages that Data Scientists use are:\n",
    "\n",
    "1. Python  \n",
    "2. R  \n",
    "3. SQL  \n",
    "4. Julia  \n",
    "5. Scala"
   ]
  },
  {
   "cell_type": "markdown",
   "id": "a7afd9a7-3a1d-4e78-a2d6-b3b99297949c",
   "metadata": {},
   "source": [
    "Some of the commonly used libraries used by Data Scientists include:\n",
    "\n",
    "1. NumPy  \n",
    "2. Pandas  \n",
    "3. Matplotlib  \n",
    "4. Scikit-learn  \n",
    "5. TensorFlow\n"
   ]
  },
  {
   "cell_type": "markdown",
   "id": "f3a3bc96-0b7e-4350-adef-ea734f26e945",
   "metadata": {},
   "source": [
    "| Data Science Tools        |\n",
    "|---------------------------|\n",
    "| Jupyter Notebook          |\n",
    "| RStudio                   |\n",
    "| Apache Zeppelin           |\n"
   ]
  },
  {
   "cell_type": "markdown",
   "id": "cdcac604-2102-45a7-a6c9-b120ab94422f",
   "metadata": {},
   "source": [
    "### Below are a few examples of evaluating arithmetic expressions in Python"
   ]
  },
  {
   "cell_type": "code",
   "execution_count": 30,
   "id": "b8bf4b4b-b846-4d57-9f31-dc1b9bcc1eec",
   "metadata": {},
   "outputs": [
    {
     "data": {
      "text/plain": [
       "17"
      ]
     },
     "execution_count": 30,
     "metadata": {},
     "output_type": "execute_result"
    }
   ],
   "source": [
    "# This is a simple arithmetic expression to multiply then add integers\n",
    "(3 * 4) + 5"
   ]
  },
  {
   "cell_type": "code",
   "execution_count": 34,
   "id": "80c9c332-f81d-4800-8fb1-676bf6150695",
   "metadata": {},
   "outputs": [
    {
     "data": {
      "text/plain": [
       "3.3333333333333335"
      ]
     },
     "execution_count": 34,
     "metadata": {},
     "output_type": "execute_result"
    }
   ],
   "source": [
    "200/60 #This will convert 200 minutes to hours by diving by 60"
   ]
  },
  {
   "cell_type": "markdown",
   "id": "3070f951-5818-41b2-a8c6-beec7a94909f",
   "metadata": {},
   "source": [
    "**Objectives:**\n",
    "\n",
    "- List popular languages for Data Science  \n",
    "- Identify commonly used Data Science libraries  \n",
    "- Create tables using Markdown in Jupyter Notebooks  \n",
    "- Perform basic arithmetic operations using Python code  \n",
    "- Convert minutes to hours using Python\n"
   ]
  },
  {
   "cell_type": "markdown",
   "id": "72f432ce-dbc9-42a0-a75e-a7fd53173dd4",
   "metadata": {},
   "source": [
    "## Author\n",
    "Jayan Mapa"
   ]
  },
  {
   "cell_type": "code",
   "execution_count": null,
   "id": "7d67e23f-6ced-4268-9ec6-83fe03d8d9f0",
   "metadata": {},
   "outputs": [],
   "source": []
  }
 ],
 "metadata": {
  "kernelspec": {
   "display_name": "Python [conda env:base] *",
   "language": "python",
   "name": "conda-base-py"
  },
  "language_info": {
   "codemirror_mode": {
    "name": "ipython",
    "version": 3
   },
   "file_extension": ".py",
   "mimetype": "text/x-python",
   "name": "python",
   "nbconvert_exporter": "python",
   "pygments_lexer": "ipython3",
   "version": "3.12.7"
  }
 },
 "nbformat": 4,
 "nbformat_minor": 5
}
